{
 "cells": [
  {
   "cell_type": "code",
   "execution_count": 12,
   "metadata": {},
   "outputs": [],
   "source": [
    "import torch\n",
    "import logging\n",
    "logging.basicConfig(level=logging.INFO, format='%(asctime)s - %(levelname)s - %(message)s')"
   ]
  },
  {
   "cell_type": "markdown",
   "metadata": {},
   "source": [
    "### torch.matmul\n",
    "\n",
    "是用来对两个tensor的矩阵进行乘积\n",
    "  - 如果tensor都是一维返回其点积(标量)\n",
    "  - 如果两个参数都是二维的，则返回矩阵-矩阵乘积\n",
    "  - 如果第一个参数是一维，第二个参数是二维，则为了矩阵乘法的目的，在其维度前添加 1。矩阵相乘后，前面的维度将被删除\n",
    "  - 如果第一个参数是二维的，第二个参数是一维的，则返回矩阵向量乘积"
   ]
  },
  {
   "cell_type": "code",
   "execution_count": 13,
   "metadata": {},
   "outputs": [
    {
     "data": {
      "text/plain": [
       "torch.Size([])"
      ]
     },
     "execution_count": 13,
     "metadata": {},
     "output_type": "execute_result"
    }
   ],
   "source": [
    "# vector x vector\n",
    "tensor1 = torch.randn(3)\n",
    "tensor2 = torch.randn(3)\n",
    "torch.matmul(tensor1, tensor2).size()"
   ]
  },
  {
   "cell_type": "code",
   "execution_count": 20,
   "metadata": {},
   "outputs": [
    {
     "name": "stderr",
     "output_type": "stream",
     "text": [
      "2024-05-13 20:45:23,065 - INFO - tensor1: tensor([[ 0.3501,  0.3488,  0.1369,  1.8027],\n",
      "        [ 1.6219, -0.2836, -0.3403, -2.1379],\n",
      "        [-0.7798,  0.2807, -1.4226, -0.6640]])\n",
      "2024-05-13 20:45:23,073 - INFO - tensor2: tensor([ 0.5485,  0.3208, -0.2034,  0.9330])\n",
      "2024-05-13 20:45:23,073 - INFO - result: tensor([ 1.9580, -1.1269, -0.6678])\n",
      "2024-05-13 20:45:23,081 - INFO - result size: torch.Size([3])\n"
     ]
    }
   ],
   "source": [
    "# matrix x vector\n",
    "tensor1 = torch.randn(3, 4)\n",
    "logging.info(f'tensor1: {tensor1}')\n",
    "tensor2 = torch.randn(4)\n",
    "logging.info(f'tensor2: {tensor2}')\n",
    "result = torch.matmul(tensor1, tensor2)\n",
    "logging.info(f'result: {result}')\n",
    "result_size = result.size()\n",
    "logging.info(f'result size: {result_size}')"
   ]
  },
  {
   "cell_type": "code",
   "execution_count": 22,
   "metadata": {},
   "outputs": [
    {
     "name": "stderr",
     "output_type": "stream",
     "text": [
      "2024-05-13 20:45:51,084 - INFO - tensor1: tensor([[[ 0.2357,  0.5761,  0.8934, -0.0079],\n",
      "         [ 0.4015, -0.5655, -0.1581,  0.3875],\n",
      "         [ 1.4332, -0.3094,  1.4427, -0.1985]],\n",
      "\n",
      "        [[ 0.5763,  0.1448, -0.4362, -1.2500],\n",
      "         [-1.2595,  0.1285,  0.2561, -0.1456],\n",
      "         [ 0.6547,  0.7291, -0.8775, -3.1186]],\n",
      "\n",
      "        [[-0.6534,  1.8665,  0.7400, -0.4123],\n",
      "         [ 0.8981,  0.2849,  0.0479,  2.2511],\n",
      "         [ 1.4180, -1.3560, -0.1808, -0.3535]],\n",
      "\n",
      "        [[-0.4277,  0.7968, -0.8294, -0.2217],\n",
      "         [-1.3969, -1.0473,  0.0531,  0.4833],\n",
      "         [ 0.3600,  0.8056, -0.9741, -0.0374]],\n",
      "\n",
      "        [[ 0.2764, -1.5071,  0.9104,  0.3201],\n",
      "         [-0.9385,  0.2217, -0.9779,  0.2385],\n",
      "         [ 0.8215, -1.3298, -0.7635, -0.2740]],\n",
      "\n",
      "        [[ 0.0291, -0.3835, -0.4896,  0.0337],\n",
      "         [-1.3517, -0.6486, -1.3467, -1.3427],\n",
      "         [-0.7678,  0.2538,  0.1539, -1.3407]],\n",
      "\n",
      "        [[ 0.6212,  0.5787, -0.4068, -1.7679],\n",
      "         [ 1.3880, -1.4773,  0.6720,  1.7329],\n",
      "         [-1.4964, -0.3567,  1.5616,  0.9101]],\n",
      "\n",
      "        [[ 0.5063,  2.1801,  1.0870, -0.4298],\n",
      "         [ 0.5737,  0.0926, -0.9687,  0.0744],\n",
      "         [ 1.2102,  1.3200,  1.4981,  0.0454]],\n",
      "\n",
      "        [[-0.7208,  0.3126, -1.9832,  0.3939],\n",
      "         [ 0.1528, -0.9436,  1.0694,  1.4721],\n",
      "         [ 0.4440,  1.5338, -0.3656,  0.4329]],\n",
      "\n",
      "        [[-0.7066,  0.6447, -0.7159, -0.2737],\n",
      "         [ 0.0893, -1.8015, -2.0964, -0.9622],\n",
      "         [ 1.3454, -0.3373,  0.0479,  1.1062]]])\n",
      "2024-05-13 20:45:51,088 - INFO - tensor2: tensor([ 0.3574, -0.6179,  0.0328, -0.1326])\n",
      "2024-05-13 20:45:51,092 - INFO - result: tensor([[-0.2415,  0.4363,  0.7770],\n",
      "        [ 0.2680, -0.5018,  0.1683],\n",
      "        [-1.3080, -0.1521,  1.3856],\n",
      "        [-0.6430,  0.0856, -0.3961],\n",
      "        [ 1.0174, -0.5360,  1.1266],\n",
      "        [ 0.2269,  0.0517, -0.2483],\n",
      "        [ 0.0855,  1.2011, -0.3839],\n",
      "        [-1.0735,  0.1062, -0.3401],\n",
      "        [-0.5679,  0.4775, -0.8585],\n",
      "        [-0.6381,  1.2040,  0.5441]])\n",
      "2024-05-13 20:45:51,093 - INFO - result size: torch.Size([10, 3])\n"
     ]
    }
   ],
   "source": [
    "# batched matrix x broadcasted vector\n",
    "tensor1 = torch.randn(10, 3, 4)\n",
    "logging.info(f'tensor1: {tensor1}')\n",
    "tensor2 = torch.randn(4)\n",
    "logging.info(f'tensor2: {tensor2}')\n",
    "result = torch.matmul(tensor1, tensor2)\n",
    "logging.info(f'result: {result}')\n",
    "result_size = result.size()\n",
    "logging.info(f'result size: {result_size}')"
   ]
  },
  {
   "cell_type": "code",
   "execution_count": 23,
   "metadata": {},
   "outputs": [
    {
     "data": {
      "text/plain": [
       "torch.Size([10, 3, 5])"
      ]
     },
     "execution_count": 23,
     "metadata": {},
     "output_type": "execute_result"
    }
   ],
   "source": [
    "# batched matrix x batched matrix\n",
    "tensor1 = torch.randn(10, 3, 4)\n",
    "tensor2 = torch.randn(10, 4, 5)\n",
    "torch.matmul(tensor1, tensor2).size()"
   ]
  },
  {
   "cell_type": "code",
   "execution_count": 24,
   "metadata": {},
   "outputs": [
    {
     "data": {
      "text/plain": [
       "torch.Size([10, 3, 5])"
      ]
     },
     "execution_count": 24,
     "metadata": {},
     "output_type": "execute_result"
    }
   ],
   "source": [
    "# batched matrix x broadcasted matrix\n",
    "tensor1 = torch.randn(10, 3, 4)\n",
    "tensor2 = torch.randn(4, 5)\n",
    "torch.matmul(tensor1, tensor2).size()"
   ]
  }
 ],
 "metadata": {
  "kernelspec": {
   "display_name": "Python 3",
   "language": "python",
   "name": "python3"
  },
  "language_info": {
   "codemirror_mode": {
    "name": "ipython",
    "version": 3
   },
   "file_extension": ".py",
   "mimetype": "text/x-python",
   "name": "python",
   "nbconvert_exporter": "python",
   "pygments_lexer": "ipython3",
   "version": "3.10.9"
  }
 },
 "nbformat": 4,
 "nbformat_minor": 2
}
