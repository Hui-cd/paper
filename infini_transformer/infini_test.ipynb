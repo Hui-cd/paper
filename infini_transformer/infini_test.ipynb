{
 "cells": [
  {
   "cell_type": "code",
   "execution_count": 59,
   "metadata": {},
   "outputs": [],
   "source": [
    "\n",
    "# model = MultiHeadInfiniAttention(n_head=n_head,dim_input=dim_input,dim_k=dim_key,segment_length=segment_len)\n",
    "import torch\n",
    "import torch.nn as nn\n",
    "\n",
    "n_head = 8\n",
    "dim_k = 64\n",
    "dim_v = 64\n",
    "segment_len = 32\n",
    "dim_input = 512\n",
    "batch = torch.randn(4, 128, dim_input)\n",
    "batch.shape\n",
    "batch_size,sequence_len,dim_input =batch.shape\n",
    "w_q = nn.Linear(dim_input,dim_k*n_head)\n",
    "w_v = nn.Linear(dim_input,dim_v*n_head)\n",
    "w_k = nn.Linear(dim_input,dim_k*n_head)\n",
    "\n"
   ]
  },
  {
   "cell_type": "code",
   "execution_count": 65,
   "metadata": {},
   "outputs": [
    {
     "name": "stdout",
     "output_type": "stream",
     "text": [
      "torch.Size([4, 32, 512])\n",
      "torch.Size([4, 8, 32, 64])\n",
      "torch.Size([4, 32, 512])\n",
      "torch.Size([4, 8, 32, 64])\n",
      "torch.Size([4, 32, 512])\n",
      "torch.Size([4, 8, 32, 64])\n",
      "torch.Size([4, 32, 512])\n",
      "torch.Size([4, 8, 32, 64])\n"
     ]
    }
   ],
   "source": [
    "x = torch.randn(4, 128, dim_input)\n",
    "batch_size,sequence_len,dim_input =x.shape\n",
    "n_seq, rem = divmod(sequence_len,segment_len)\n",
    "\n",
    "for i in range(n_seq):\n",
    "    start = i*segment_len\n",
    "    end = start+ segment_len\n",
    "    segment = x[:,start:end,:]\n",
    "    print(segment.shape)\n",
    "    k = w_k(segment).unsqueeze(1).view(batch_size,n_head,segment_len,dim_k)\n",
    "    print(k.shape)\n",
    "    # q = w_q(segment).unsqueeze(1).view(batch_size,n_head,sequence_len,dim_k)\n",
    "    # v = w_v(segment).unsqueeze(1).view(batch_size,n_head,sequence_len,dim_v)"
   ]
  }
 ],
 "metadata": {
  "kernelspec": {
   "display_name": "Python 3",
   "language": "python",
   "name": "python3"
  },
  "language_info": {
   "codemirror_mode": {
    "name": "ipython",
    "version": 3
   },
   "file_extension": ".py",
   "mimetype": "text/x-python",
   "name": "python",
   "nbconvert_exporter": "python",
   "pygments_lexer": "ipython3",
   "version": "3.10.9"
  }
 },
 "nbformat": 4,
 "nbformat_minor": 2
}
