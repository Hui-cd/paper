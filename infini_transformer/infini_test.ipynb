{
 "cells": [
  {
   "cell_type": "code",
   "execution_count": 3,
   "metadata": {},
   "outputs": [
    {
     "name": "stdout",
     "output_type": "stream",
     "text": [
      "batch_size 4\n",
      "sequence_len 128\n",
      "dim_input 512\n"
     ]
    }
   ],
   "source": [
    "# n_head = 8\n",
    "dim_input = 512\n",
    "# dim_key = 64\n",
    "# dim_value = 64\n",
    "# segment_len = 32\n",
    "# model = MultiHeadInfiniAttention(n_head=n_head,dim_input=dim_input,dim_k=dim_key,segment_length=segment_len)\n",
    "import torch\n",
    "\n",
    "batch = torch.randn(4, 128, dim_input)\n",
    "batch.shape\n",
    "batch_size,sequence_len,dim_input =batch.shape\n",
    "print('batch_size',batch_size)\n",
    "print('sequence_len',sequence_len)\n",
    "print('dim_input',dim_input)"
   ]
  },
  {
   "cell_type": "code",
   "execution_count": null,
   "metadata": {},
   "outputs": [],
   "source": []
  }
 ],
 "metadata": {
  "kernelspec": {
   "display_name": "Python 3",
   "language": "python",
   "name": "python3"
  },
  "language_info": {
   "codemirror_mode": {
    "name": "ipython",
    "version": 3
   },
   "file_extension": ".py",
   "mimetype": "text/x-python",
   "name": "python",
   "nbconvert_exporter": "python",
   "pygments_lexer": "ipython3",
   "version": "3.10.9"
  }
 },
 "nbformat": 4,
 "nbformat_minor": 2
}
