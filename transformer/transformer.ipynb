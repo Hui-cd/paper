{
 "cells": [
  {
   "cell_type": "code",
   "execution_count": 2,
   "metadata": {},
   "outputs": [],
   "source": [
    "import torch"
   ]
  },
  {
   "cell_type": "code",
   "execution_count": 3,
   "metadata": {},
   "outputs": [
    {
     "name": "stdout",
     "output_type": "stream",
     "text": [
      "tensor([[0.1440, 0.6562, 0.7519, 0.1477],\n",
      "        [0.7803, 0.3915, 0.0847, 0.0356],\n",
      "        [0.2056, 0.4585, 0.0167, 0.4879],\n",
      "        [0.5024, 0.6819, 0.2055, 0.6674]])\n"
     ]
    }
   ],
   "source": [
    "matrix1 = torch.rand(4,4)\n",
    "print(matrix1)"
   ]
  },
  {
   "cell_type": "code",
   "execution_count": 4,
   "metadata": {},
   "outputs": [
    {
     "name": "stdout",
     "output_type": "stream",
     "text": [
      "tensor([[0.8396, 0.3798, 0.4620, 0.4834],\n",
      "        [0.7694, 0.3067, 0.1173, 0.7598],\n",
      "        [0.0173, 0.7875, 0.0473, 0.5616],\n",
      "        [0.0159, 0.7740, 0.5371, 0.6049]])\n"
     ]
    }
   ],
   "source": [
    "matrix2 = torch.rand(4,4)\n",
    "print(matrix2)"
   ]
  },
  {
   "cell_type": "code",
   "execution_count": 5,
   "metadata": {},
   "outputs": [
    {
     "name": "stdout",
     "output_type": "stream",
     "text": [
      "tensor([[0.7551, 1.2411, 0.7705, 0.6855],\n",
      "        [0.7560, 1.1969, 0.7626, 0.6888],\n",
      "        [0.9089, 0.7243, 0.1959, 0.4285],\n",
      "        [1.0207, 0.9723, 0.2108, 0.6957]])\n"
     ]
    }
   ],
   "source": [
    "result = torch.matmul(matrix2,matrix1)\n",
    "print(result)"
   ]
  },
  {
   "cell_type": "markdown",
   "metadata": {},
   "source": [
    "### Torch.randn_like\n",
    "\n",
    "#### 参数\n",
    "\n",
    "- `input`：（**Tensor**）指定大小的张量，`randn_like` 会生成与此张量相同大小的随机数张量。\n",
    "  \n",
    "- `dtype`（可选）：生成的随机张量的数据类型，默认为 `None`，表示与 `input` 张量的数据类型相同。\n",
    "  \n",
    "- `layout`（可选）：生成的随机张量的布局，默认为 `None`。\n",
    "  \n",
    "- `device`（可选）：生成的随机张量将存储在的设备，默认为 `None`，即与 `input` 张量相同的设备。\n",
    "\n",
    "- `requires_grad`（可选）：指示生成的张量是否需要梯度，默认为 `False`。\n",
    "\n",
    "#### 返回值\n",
    "\n",
    "- `Tensor`：生成与 `input` 张量相同大小的张量，其中包含从标准正态分布中抽取的随机数。\n"
   ]
  },
  {
   "cell_type": "code",
   "execution_count": 6,
   "metadata": {},
   "outputs": [
    {
     "name": "stdout",
     "output_type": "stream",
     "text": [
      "tensor([[6.3058e-44, 6.8664e-44, 7.0065e-44],\n",
      "        [6.3058e-44, 6.7262e-44, 6.8664e-44]])\n",
      "tensor([[-0.5004, -0.2818,  1.0054],\n",
      "        [ 0.2337,  2.2118, -1.6451]])\n"
     ]
    }
   ],
   "source": [
    "import torch\n",
    "\n",
    "# 创建一个形状为 (2, 3) 的张量\n",
    "input_tensor = torch.empty(2, 3)\n",
    "\n",
    "# 使用 randn_like 生成一个与 input_tensor 相同大小的随机数张量\n",
    "random_tensor = torch.randn_like(input_tensor)\n",
    "print(input_tensor)\n",
    "print(random_tensor)\n"
   ]
  },
  {
   "cell_type": "code",
   "execution_count": 7,
   "metadata": {},
   "outputs": [
    {
     "name": "stdout",
     "output_type": "stream",
     "text": [
      "tensor([[-0.5004, -0.2818,  1.0054],\n",
      "        [ 0.2337,  2.2118, -1.6451]])\n"
     ]
    }
   ],
   "source": [
    "result = torch.add(input_tensor,random_tensor)\n",
    "print(result)"
   ]
  },
  {
   "cell_type": "code",
   "execution_count": 1,
   "metadata": {},
   "outputs": [],
   "source": [
    "import torch"
   ]
  },
  {
   "cell_type": "code",
   "execution_count": 13,
   "metadata": {},
   "outputs": [
    {
     "name": "stdout",
     "output_type": "stream",
     "text": [
      "tensor([[4.5000, 4.5000],\n",
      "        [4.5000, 4.5000]])\n"
     ]
    }
   ],
   "source": [
    "x = torch.ones(2, 2, requires_grad=True)\n",
    "y = x + 2\n",
    "z = y * y * 3\n",
    "out = z.mean()\n",
    "out.backward()\n",
    "print(x.grad)"
   ]
  },
  {
   "cell_type": "code",
   "execution_count": 3,
   "metadata": {},
   "outputs": [
    {
     "name": "stdout",
     "output_type": "stream",
     "text": [
      "tensor([[3., 3.],\n",
      "        [3., 3.]], grad_fn=<AddBackward0>)\n"
     ]
    }
   ],
   "source": [
    "y = x + 2\n",
    "print(y)"
   ]
  },
  {
   "cell_type": "code",
   "execution_count": 4,
   "metadata": {},
   "outputs": [
    {
     "name": "stdout",
     "output_type": "stream",
     "text": [
      "<AddBackward0 object at 0x000001E6D8F13310>\n"
     ]
    }
   ],
   "source": [
    "print(y.grad_fn)"
   ]
  },
  {
   "cell_type": "code",
   "execution_count": 5,
   "metadata": {},
   "outputs": [
    {
     "name": "stdout",
     "output_type": "stream",
     "text": [
      "tensor([[27., 27.],\n",
      "        [27., 27.]], grad_fn=<MulBackward0>) tensor(27., grad_fn=<MeanBackward0>)\n"
     ]
    }
   ],
   "source": [
    "z = y * y * 3\n",
    "out = z.mean()\n",
    "\n",
    "print(z, out)"
   ]
  },
  {
   "cell_type": "code",
   "execution_count": 6,
   "metadata": {},
   "outputs": [
    {
     "name": "stdout",
     "output_type": "stream",
     "text": [
      "False\n",
      "True\n",
      "<SumBackward0 object at 0x000001E6B216E800>\n"
     ]
    }
   ],
   "source": [
    "a = torch.randn(2, 2)\n",
    "a = ((a * 3) / (a - 1))\n",
    "print(a.requires_grad)\n",
    "a.requires_grad_(True)\n",
    "print(a.requires_grad)\n",
    "b = (a * a).sum()\n",
    "print(b.grad_fn)"
   ]
  },
  {
   "cell_type": "code",
   "execution_count": 11,
   "metadata": {},
   "outputs": [
    {
     "name": "stdout",
     "output_type": "stream",
     "text": [
      "tensor([[4.5000, 4.5000],\n",
      "        [4.5000, 4.5000]])\n"
     ]
    }
   ],
   "source": [
    "print(x.grad)"
   ]
  },
  {
   "cell_type": "code",
   "execution_count": 6,
   "metadata": {},
   "outputs": [
    {
     "name": "stdout",
     "output_type": "stream",
     "text": [
      "Original Tensor:\n",
      " tensor([[[ 0,  1,  2,  3],\n",
      "         [ 4,  5,  6,  7]],\n",
      "\n",
      "        [[ 8,  9, 10, 11],\n",
      "         [12, 13, 14, 15]]])\n",
      "Reshaped Tensor:\n",
      " tensor([[[[ 0,  1],\n",
      "          [ 2,  3]],\n",
      "\n",
      "         [[ 4,  5],\n",
      "          [ 6,  7]]],\n",
      "\n",
      "\n",
      "        [[[ 8,  9],\n",
      "          [10, 11]],\n",
      "\n",
      "         [[12, 13],\n",
      "          [14, 15]]]])\n"
     ]
    }
   ],
   "source": [
    "import torch\n",
    "x = torch.arange(16).reshape(2,2, 4)\n",
    "print(\"Original Tensor:\\n\", x)\n",
    "\n",
    "# 使用view改变形状\n",
    "y = x.view(2,2,2,2)\n",
    "print(\"Reshaped Tensor:\\n\", y)"
   ]
  }
 ],
 "metadata": {
  "kernelspec": {
   "display_name": "Python 3",
   "language": "python",
   "name": "python3"
  },
  "language_info": {
   "codemirror_mode": {
    "name": "ipython",
    "version": 3
   },
   "file_extension": ".py",
   "mimetype": "text/x-python",
   "name": "python",
   "nbconvert_exporter": "python",
   "pygments_lexer": "ipython3",
   "version": "3.10.9"
  }
 },
 "nbformat": 4,
 "nbformat_minor": 2
}
